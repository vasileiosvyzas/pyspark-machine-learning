{
  "cells": [
    {
      "cell_type": "code",
      "execution_count": null,
      "metadata": {
        "id": "5amsialYCQLl"
      },
      "outputs": [],
      "source": [
        "import pyspark\n",
        "import pandas as pd\n",
        "import numpy as np\n",
        "\n",
        "from pyspark.sql import SparkSession\n",
        "from pyspark.sql.functions import col, isnan, when, count, isnull, sum, median, mean, first, max, min, mode\n",
        "from pyspark.sql.types import StructType, StructField, StringType, LongType, DoubleType\n",
        "\n",
        "from pyspark.ml.feature import Bucketizer, QuantileDiscretizer\n",
        "from pyspark.sql.window import Window"
      ]
    },
    {
      "cell_type": "code",
      "source": [
        "from google.colab import drive\n",
        "drive.mount('/content/drive')"
      ],
      "metadata": {
        "id": "OAqd54jTr66c"
      },
      "execution_count": null,
      "outputs": []
    },
    {
      "cell_type": "code",
      "execution_count": null,
      "metadata": {
        "id": "0tEahm1UCQLm"
      },
      "outputs": [],
      "source": [
        "spark = SparkSession.builder.appName(\"test\").getOrCreate()"
      ]
    },
    {
      "cell_type": "markdown",
      "metadata": {
        "id": "DMH9bFxyCQLn"
      },
      "source": [
        "# Load data"
      ]
    },
    {
      "cell_type": "code",
      "execution_count": null,
      "metadata": {
        "id": "wK8SJ1BpCQLp"
      },
      "outputs": [],
      "source": [
        "df=spark.read.csv('cust_data.csv',inferSchema=True,header=True)"
      ]
    },
    {
      "cell_type": "code",
      "execution_count": null,
      "metadata": {
        "colab": {
          "base_uri": "https://localhost:8080/"
        },
        "id": "h16bC-x8CQLp",
        "outputId": "a44478d4-d5cf-4b37-9836-46fa3ed611d0"
      },
      "outputs": [
        {
          "output_type": "stream",
          "name": "stdout",
          "text": [
            "+---+------+---+-------------------+---------+------------------------------+---------+--------+------------------+-------------------+-------+-----+\n",
            "| id|Gender|Age|Has_Mobile_Contract|Area_Code|Currently_Holds_Second_Product|   Tenure|App_User|Num_website_visits|Acquisition_Channel|Revenue|Label|\n",
            "+---+------+---+-------------------+---------+------------------------------+---------+--------+------------------+-------------------+-------+-----+\n",
            "|  1|  Male| 44|                  1|       28|                             0|> 2 Years|     Yes|              NULL|                 26|  40.45|    1|\n",
            "|  2|  Male| 76|                  1|        3|                             0| 1-2 Year|      No|              NULL|                 26|  33.54|    0|\n",
            "|  3|  Male| 47|                  1|       28|                             0|> 2 Years|     Yes|              NULL|                 26|  38.29|    1|\n",
            "|  4|  Male| 21|                  1|       11|                             1| < 1 Year|      No|              NULL|                152|  28.62|    0|\n",
            "|  5|Female| 29|                  1|       41|                             1| < 1 Year|      No|              NULL|                152|   27.5|    0|\n",
            "|  6|Female| 24|                  1|       33|                             0| < 1 Year|     Yes|              NULL|                160|   2.63|    0|\n",
            "|  7|  Male| 23|                  1|       11|                             0| < 1 Year|     Yes|              NULL|                152|  23.37|    0|\n",
            "|  8|Female| 56|                  1|       28|                             0| 1-2 Year|     Yes|              NULL|                 26|  32.03|    1|\n",
            "|  9|Female| 24|                  1|        3|                             1| < 1 Year|      No|              NULL|                152|  27.62|    0|\n",
            "| 10|Female| 32|                  1|        6|                             1| < 1 Year|      No|              NULL|                152|  28.77|    0|\n",
            "| 11|Female| 47|                  1|       35|                             0| 1-2 Year|     Yes|              NULL|                124|  47.58|    1|\n",
            "| 12|Female| 24|                  1|       50|                             1| < 1 Year|      No|              NULL|                152|   48.7|    0|\n",
            "| 13|Female| 41|                  1|       15|                             1| 1-2 Year|      No|              NULL|                 14|  31.41|    0|\n",
            "| 14|  Male| 76|                  1|       28|                             0| 1-2 Year|     Yes|              NULL|                 13|  36.77|    0|\n",
            "| 15|  Male| 71|                  1|       28|                             1| 1-2 Year|      No|              NULL|                 30|  46.82|    0|\n",
            "| 16|  Male| 37|                  1|        6|                             0| 1-2 Year|     Yes|              NULL|                156|   2.63|    1|\n",
            "| 17|Female| 25|                  1|       45|                             0| < 1 Year|     Yes|              NULL|                160|  26.22|    0|\n",
            "| 18|Female| 25|                  1|       35|                             1| < 1 Year|      No|              NULL|                152|  46.62|    0|\n",
            "| 19|  Male| 42|                  1|       28|                             0|     NULL|     Yes|              NULL|                124|  33.67|    0|\n",
            "| 20|Female| 60|                  1|       33|                             0| 1-2 Year|     Yes|              NULL|                124|  32.36|    1|\n",
            "+---+------+---+-------------------+---------+------------------------------+---------+--------+------------------+-------------------+-------+-----+\n",
            "only showing top 20 rows\n",
            "\n"
          ]
        }
      ],
      "source": [
        "df.show()"
      ]
    },
    {
      "cell_type": "code",
      "execution_count": null,
      "metadata": {
        "colab": {
          "base_uri": "https://localhost:8080/"
        },
        "id": "R9YK_KEfCQLq",
        "outputId": "6132ee65-d01e-4ef5-b60b-8952667aa36c"
      },
      "outputs": [
        {
          "output_type": "stream",
          "name": "stdout",
          "text": [
            "Number of rows: 381109 and columns: 12\n"
          ]
        }
      ],
      "source": [
        "print(f\"Number of rows: {df.count()} and columns: {len(df.columns)}\")"
      ]
    },
    {
      "cell_type": "code",
      "execution_count": null,
      "metadata": {
        "colab": {
          "base_uri": "https://localhost:8080/"
        },
        "id": "KC6wTuTVCQLq",
        "outputId": "90cf01ad-0584-43bd-c5e8-b1be8ab66106"
      },
      "outputs": [
        {
          "output_type": "stream",
          "name": "stdout",
          "text": [
            "root\n",
            " |-- id: integer (nullable = true)\n",
            " |-- Gender: string (nullable = true)\n",
            " |-- Age: integer (nullable = true)\n",
            " |-- Has_Mobile_Contract: integer (nullable = true)\n",
            " |-- Area_Code: integer (nullable = true)\n",
            " |-- Currently_Holds_Second_Product: integer (nullable = true)\n",
            " |-- Tenure: string (nullable = true)\n",
            " |-- App_User: string (nullable = true)\n",
            " |-- Num_website_visits: string (nullable = true)\n",
            " |-- Acquisition_Channel: integer (nullable = true)\n",
            " |-- Revenue: double (nullable = true)\n",
            " |-- Label: integer (nullable = true)\n",
            "\n"
          ]
        }
      ],
      "source": [
        "df.printSchema()"
      ]
    },
    {
      "cell_type": "code",
      "source": [
        "# Handle out of range values on the Age column\n",
        "df = df.withColumn('Age', when((df['Age'] == 190) | (df['Age'] == -1), np.nan).otherwise(df.Age))"
      ],
      "metadata": {
        "id": "0_IUTpnt_naf"
      },
      "execution_count": null,
      "outputs": []
    },
    {
      "cell_type": "markdown",
      "metadata": {
        "id": "BXaJZD2bCQLq"
      },
      "source": [
        "# Handle missing values"
      ]
    },
    {
      "cell_type": "code",
      "execution_count": null,
      "metadata": {
        "id": "K3aGGA85CQLr"
      },
      "outputs": [],
      "source": [
        "df = df.drop('id', 'Num_website_visits')"
      ]
    },
    {
      "cell_type": "code",
      "source": [
        "def fill_categorical_nulls_with_mode(df: pyspark.sql.DataFrame, columns: list):\n",
        "    mode_values = {}\n",
        "    for column in columns:\n",
        "        mode_value = df.select(mode(column)).first()[0]\n",
        "        mode_values[column] = mode_value\n",
        "    return df.fillna(mode_values)"
      ],
      "metadata": {
        "id": "-WEb6JU-_yCI"
      },
      "execution_count": null,
      "outputs": []
    },
    {
      "cell_type": "code",
      "source": [
        "def fill_numerical_nulls_with_median(df: pyspark.sql.DataFrame, columns: list):\n",
        "    median_values = {}\n",
        "    for column in columns:\n",
        "        median_value = df.select(median(column)).first()[0]\n",
        "        median_values[column] = median_value\n",
        "    return df.fillna(median_values)"
      ],
      "metadata": {
        "id": "p07J0Fi3_2vy"
      },
      "execution_count": null,
      "outputs": []
    },
    {
      "cell_type": "code",
      "source": [
        "categorical_columns = ['Has_Mobile_Contract', 'Tenure']\n",
        "df = fill_categorical_nulls_with_mode(df, categorical_columns)"
      ],
      "metadata": {
        "id": "zBU2Jyk__4aW"
      },
      "execution_count": null,
      "outputs": []
    },
    {
      "cell_type": "code",
      "source": [
        "numerical_columns = ['Area_Code', 'Age']\n",
        "df = fill_numerical_nulls_with_median(df, numerical_columns)"
      ],
      "metadata": {
        "id": "CDqAShalAEW3"
      },
      "execution_count": null,
      "outputs": []
    },
    {
      "cell_type": "code",
      "source": [
        "null_counts = [sum(when(isnull(col), 1).otherwise(0)).alias(col) for col in df.columns]\n",
        "null_df = df.select(null_counts)\n",
        "\n",
        "result = null_df.toPandas().transpose().reset_index()\n",
        "result['null_percentage'] = (result[0] / df.count() * 100).round(3)\n",
        "\n",
        "schema = StructType([\n",
        "    StructField('column', StringType(), False),\n",
        "    StructField('null_counts', LongType(), False),\n",
        "    StructField('null_percentage', DoubleType(), False)\n",
        "])\n",
        "\n",
        "result_df = df.sparkSession.createDataFrame(\n",
        "    result.rename(\n",
        "        columns={\n",
        "            \"index\": \"column_name\",\n",
        "            0: \"null_count\"\n",
        "        }\n",
        "    ),\n",
        "    schema=schema\n",
        ")\n",
        "\n",
        "result_df.orderBy(col('null_counts').desc()).show()"
      ],
      "metadata": {
        "id": "uN7ZFqakC3NR",
        "colab": {
          "base_uri": "https://localhost:8080/"
        },
        "outputId": "0721e014-6cb2-4fc6-a124-80d300c31f00"
      },
      "execution_count": null,
      "outputs": [
        {
          "output_type": "stream",
          "name": "stdout",
          "text": [
            "+--------------------+-----------+---------------+\n",
            "|              column|null_counts|null_percentage|\n",
            "+--------------------+-----------+---------------+\n",
            "|              Gender|          0|            0.0|\n",
            "|              Tenure|          0|            0.0|\n",
            "|                 Age|          0|            0.0|\n",
            "|            App_User|          0|            0.0|\n",
            "| Has_Mobile_Contract|          0|            0.0|\n",
            "| Acquisition_Channel|          0|            0.0|\n",
            "|           Area_Code|          0|            0.0|\n",
            "|             Revenue|          0|            0.0|\n",
            "|Currently_Holds_S...|          0|            0.0|\n",
            "|               Label|          0|            0.0|\n",
            "+--------------------+-----------+---------------+\n",
            "\n"
          ]
        }
      ]
    },
    {
      "cell_type": "code",
      "source": [
        "df.describe().show()"
      ],
      "metadata": {
        "id": "X0skz8UkC3RX",
        "colab": {
          "base_uri": "https://localhost:8080/"
        },
        "outputId": "8ed8b80a-2faa-48a7-f7bc-8b41dc3ef903"
      },
      "execution_count": null,
      "outputs": [
        {
          "output_type": "stream",
          "name": "stdout",
          "text": [
            "+-------+------+------------------+-------------------+------------------+------------------------------+---------+--------+-------------------+------------------+-------------------+\n",
            "|summary|Gender|               Age|Has_Mobile_Contract|         Area_Code|Currently_Holds_Second_Product|   Tenure|App_User|Acquisition_Channel|           Revenue|              Label|\n",
            "+-------+------+------------------+-------------------+------------------+------------------------------+---------+--------+-------------------+------------------+-------------------+\n",
            "|  count|381109|            381109|             381109|            381109|                        381109|   381109|  381109|             381109|            381109|             381109|\n",
            "|   mean|  NULL|38.822468112797125| 0.9978693759528114|26.388852008218123|            0.4582101183650871|     NULL|    NULL| 112.03429465061177|30.564806157802817|0.12256336113815208|\n",
            "| stddev|  NULL| 15.51148231991869|0.04610954420779938|13.229864798927554|           0.49825119888722547|     NULL|    NULL| 54.203994774856554|17.213295449130523| 0.3279357647864266|\n",
            "|    min|Female|              20.0|                  0|                 0|                             0| 1-2 Year|      No|                  1|              2.63|                  0|\n",
            "|    max|  Male|              85.0|                  1|                52|                             1|> 2 Years|     Yes|                163|            540.17|                  1|\n",
            "+-------+------+------------------+-------------------+------------------+------------------------------+---------+--------+-------------------+------------------+-------------------+\n",
            "\n"
          ]
        }
      ]
    },
    {
      "cell_type": "markdown",
      "source": [
        "# Feature Engineering"
      ],
      "metadata": {
        "id": "kcWDGMsdA1hu"
      }
    },
    {
      "cell_type": "markdown",
      "source": [
        "## Make the age categorical"
      ],
      "metadata": {
        "id": "w4jDacOe5EyX"
      }
    },
    {
      "cell_type": "code",
      "source": [
        "bucketizer = Bucketizer(splits=[0, 25, 35, 45, 55, 100],\n",
        "                        inputCol='Age',\n",
        "                        outputCol='bins')\n",
        "df = bucketizer.setHandleInvalid('keep').transform(df)"
      ],
      "metadata": {
        "id": "NljHpVcUHhvj"
      },
      "execution_count": null,
      "outputs": []
    },
    {
      "cell_type": "code",
      "source": [
        "df = df.withColumn('age_bins',\n",
        "    when(col('bins') == 0.0, '18-25')\n",
        "    .when(col('bins') == 1.0, '26-35')\n",
        "    .when(col('bins') == 2.0, '36-45')\n",
        "    .when(col('bins') == 3.0, '46-55')\n",
        "    .when(col('bins') == 4.0, '55+')\n",
        "    .otherwise(col('bins'))\n",
        ")"
      ],
      "metadata": {
        "id": "b2IaJzsIKxmR"
      },
      "execution_count": null,
      "outputs": []
    },
    {
      "cell_type": "code",
      "source": [
        "df.show()"
      ],
      "metadata": {
        "colab": {
          "base_uri": "https://localhost:8080/"
        },
        "id": "l_OAD_46A42A",
        "outputId": "b90d3fac-999b-4930-f40d-ef31a4aeddb8"
      },
      "execution_count": null,
      "outputs": [
        {
          "output_type": "stream",
          "name": "stdout",
          "text": [
            "+------+----+-------------------+---------+------------------------------+---------+--------+-------------------+-------+-----+----+--------+\n",
            "|Gender| Age|Has_Mobile_Contract|Area_Code|Currently_Holds_Second_Product|   Tenure|App_User|Acquisition_Channel|Revenue|Label|bins|age_bins|\n",
            "+------+----+-------------------+---------+------------------------------+---------+--------+-------------------+-------+-----+----+--------+\n",
            "|  Male|44.0|                  1|       28|                             0|> 2 Years|     Yes|                 26|  40.45|    1| 2.0|   36-45|\n",
            "|  Male|76.0|                  1|        3|                             0| 1-2 Year|      No|                 26|  33.54|    0| 4.0|     55+|\n",
            "|  Male|47.0|                  1|       28|                             0|> 2 Years|     Yes|                 26|  38.29|    1| 3.0|   46-55|\n",
            "|  Male|21.0|                  1|       11|                             1| < 1 Year|      No|                152|  28.62|    0| 0.0|   18-25|\n",
            "|Female|29.0|                  1|       41|                             1| < 1 Year|      No|                152|   27.5|    0| 1.0|   26-35|\n",
            "|Female|24.0|                  1|       33|                             0| < 1 Year|     Yes|                160|   2.63|    0| 0.0|   18-25|\n",
            "|  Male|23.0|                  1|       11|                             0| < 1 Year|     Yes|                152|  23.37|    0| 0.0|   18-25|\n",
            "|Female|56.0|                  1|       28|                             0| 1-2 Year|     Yes|                 26|  32.03|    1| 4.0|     55+|\n",
            "|Female|24.0|                  1|        3|                             1| < 1 Year|      No|                152|  27.62|    0| 0.0|   18-25|\n",
            "|Female|32.0|                  1|        6|                             1| < 1 Year|      No|                152|  28.77|    0| 1.0|   26-35|\n",
            "|Female|47.0|                  1|       35|                             0| 1-2 Year|     Yes|                124|  47.58|    1| 3.0|   46-55|\n",
            "|Female|24.0|                  1|       50|                             1| < 1 Year|      No|                152|   48.7|    0| 0.0|   18-25|\n",
            "|Female|41.0|                  1|       15|                             1| 1-2 Year|      No|                 14|  31.41|    0| 2.0|   36-45|\n",
            "|  Male|76.0|                  1|       28|                             0| 1-2 Year|     Yes|                 13|  36.77|    0| 4.0|     55+|\n",
            "|  Male|71.0|                  1|       28|                             1| 1-2 Year|      No|                 30|  46.82|    0| 4.0|     55+|\n",
            "|  Male|37.0|                  1|        6|                             0| 1-2 Year|     Yes|                156|   2.63|    1| 2.0|   36-45|\n",
            "|Female|25.0|                  1|       45|                             0| < 1 Year|     Yes|                160|  26.22|    0| 1.0|   26-35|\n",
            "|Female|25.0|                  1|       35|                             1| < 1 Year|      No|                152|  46.62|    0| 1.0|   26-35|\n",
            "|  Male|42.0|                  1|       28|                             0| 1-2 Year|     Yes|                124|  33.67|    0| 2.0|   36-45|\n",
            "|Female|60.0|                  1|       33|                             0| 1-2 Year|     Yes|                124|  32.36|    1| 4.0|     55+|\n",
            "+------+----+-------------------+---------+------------------------------+---------+--------+-------------------+-------+-----+----+--------+\n",
            "only showing top 20 rows\n",
            "\n"
          ]
        }
      ]
    },
    {
      "cell_type": "code",
      "source": [
        "df.groupBy('age_bins').count().withColumnRenamed('count', 'cnt_per_group').withColumn('perc_of_count_total', (col('cnt_per_group') / df.count()) * 100).show()"
      ],
      "metadata": {
        "colab": {
          "base_uri": "https://localhost:8080/"
        },
        "id": "0sSY-LVeL-dI",
        "outputId": "8d64e7bd-9936-4253-e911-d71a4642fe5d"
      },
      "execution_count": null,
      "outputs": [
        {
          "output_type": "stream",
          "name": "stdout",
          "text": [
            "+--------+-------------+-------------------+\n",
            "|age_bins|cnt_per_group|perc_of_count_total|\n",
            "+--------+-------------+-------------------+\n",
            "|   18-25|        93868|  24.63022389919944|\n",
            "|   26-35|        88006| 23.092081268088656|\n",
            "|   46-55|        65236| 17.117412603743286|\n",
            "|   36-45|        67290| 17.656366026517347|\n",
            "|     55+|        66709|  17.50391620245127|\n",
            "+--------+-------------+-------------------+\n",
            "\n"
          ]
        }
      ]
    },
    {
      "cell_type": "markdown",
      "source": [
        "## Make the revenue categorical\n",
        "https://stackoverflow.com/questions/54803107/what-are-alternative-methods-for-pandas-quantile-and-cut-in-pyspark-1-6"
      ],
      "metadata": {
        "id": "YaFOja1P5Q_e"
      }
    },
    {
      "cell_type": "code",
      "source": [
        "discretizer = QuantileDiscretizer(\n",
        "    numBuckets=4,\n",
        "    inputCol='Revenue',\n",
        "    outputCol='Revenue_Group'\n",
        ")\n",
        "df_bins = discretizer.fit(df).transform(df)"
      ],
      "metadata": {
        "id": "rKmKbret5f3T"
      },
      "execution_count": null,
      "outputs": []
    },
    {
      "cell_type": "code",
      "source": [
        "df = df_bins.withColumn('Revenue_Group',\n",
        "    when(col('Revenue_Group') == 0.0, 'Low')\n",
        "    .when(col('Revenue_Group') == 1.0, 'Medium')\n",
        "    .when(col('Revenue_Group') == 2.0, 'High')\n",
        "    .when(col('Revenue_Group') == 3.0, 'Very High')\n",
        "    .otherwise(col('Revenue_Group'))\n",
        ")"
      ],
      "metadata": {
        "id": "RhC_hPEn7jwV"
      },
      "execution_count": null,
      "outputs": []
    },
    {
      "cell_type": "code",
      "source": [
        "df.groupBy('Revenue_Group').count().orderBy('count', ascending=False).show()"
      ],
      "metadata": {
        "colab": {
          "base_uri": "https://localhost:8080/"
        },
        "id": "WZbPs8OE6YAJ",
        "outputId": "6ea929cb-50af-42e8-f8d9-c2530f4b46bf"
      },
      "execution_count": null,
      "outputs": [
        {
          "output_type": "stream",
          "name": "stdout",
          "text": [
            "+-------------+-----+\n",
            "|Revenue_Group|count|\n",
            "+-------------+-----+\n",
            "|    Very High|95420|\n",
            "|         High|95345|\n",
            "|       Medium|95235|\n",
            "|          Low|95109|\n",
            "+-------------+-----+\n",
            "\n"
          ]
        }
      ]
    },
    {
      "cell_type": "markdown",
      "source": [
        "## Convert categorical to numerical"
      ],
      "metadata": {
        "id": "vkbzGU_t_193"
      }
    },
    {
      "cell_type": "code",
      "source": [
        "df.show()"
      ],
      "metadata": {
        "colab": {
          "base_uri": "https://localhost:8080/"
        },
        "id": "FuFgg9XJ_1FY",
        "outputId": "f6195b19-ac2f-4bfc-9c63-39893ee18d01"
      },
      "execution_count": null,
      "outputs": [
        {
          "output_type": "stream",
          "name": "stdout",
          "text": [
            "+------+----+-------------------+---------+------------------------------+---------+--------+-------------------+-------+-----+----+--------+-------------+\n",
            "|Gender| Age|Has_Mobile_Contract|Area_Code|Currently_Holds_Second_Product|   Tenure|App_User|Acquisition_Channel|Revenue|Label|bins|age_bins|Revenue_Group|\n",
            "+------+----+-------------------+---------+------------------------------+---------+--------+-------------------+-------+-----+----+--------+-------------+\n",
            "|  Male|44.0|                  1|       28|                             0|> 2 Years|     Yes|                 26|  40.45|    1| 2.0|   36-45|    Very High|\n",
            "|  Male|76.0|                  1|        3|                             0| 1-2 Year|      No|                 26|  33.54|    0| 4.0|     55+|         High|\n",
            "|  Male|47.0|                  1|       28|                             0|> 2 Years|     Yes|                 26|  38.29|    1| 3.0|   46-55|         High|\n",
            "|  Male|21.0|                  1|       11|                             1| < 1 Year|      No|                152|  28.62|    0| 0.0|   18-25|       Medium|\n",
            "|Female|29.0|                  1|       41|                             1| < 1 Year|      No|                152|   27.5|    0| 1.0|   26-35|       Medium|\n",
            "|Female|24.0|                  1|       33|                             0| < 1 Year|     Yes|                160|   2.63|    0| 0.0|   18-25|          Low|\n",
            "|  Male|23.0|                  1|       11|                             0| < 1 Year|     Yes|                152|  23.37|    0| 0.0|   18-25|          Low|\n",
            "|Female|56.0|                  1|       28|                             0| 1-2 Year|     Yes|                 26|  32.03|    1| 4.0|     55+|         High|\n",
            "|Female|24.0|                  1|        3|                             1| < 1 Year|      No|                152|  27.62|    0| 0.0|   18-25|       Medium|\n",
            "|Female|32.0|                  1|        6|                             1| < 1 Year|      No|                152|  28.77|    0| 1.0|   26-35|       Medium|\n",
            "|Female|47.0|                  1|       35|                             0| 1-2 Year|     Yes|                124|  47.58|    1| 3.0|   46-55|    Very High|\n",
            "|Female|24.0|                  1|       50|                             1| < 1 Year|      No|                152|   48.7|    0| 0.0|   18-25|    Very High|\n",
            "|Female|41.0|                  1|       15|                             1| 1-2 Year|      No|                 14|  31.41|    0| 2.0|   36-45|       Medium|\n",
            "|  Male|76.0|                  1|       28|                             0| 1-2 Year|     Yes|                 13|  36.77|    0| 4.0|     55+|         High|\n",
            "|  Male|71.0|                  1|       28|                             1| 1-2 Year|      No|                 30|  46.82|    0| 4.0|     55+|    Very High|\n",
            "|  Male|37.0|                  1|        6|                             0| 1-2 Year|     Yes|                156|   2.63|    1| 2.0|   36-45|          Low|\n",
            "|Female|25.0|                  1|       45|                             0| < 1 Year|     Yes|                160|  26.22|    0| 1.0|   26-35|       Medium|\n",
            "|Female|25.0|                  1|       35|                             1| < 1 Year|      No|                152|  46.62|    0| 1.0|   26-35|    Very High|\n",
            "|  Male|42.0|                  1|       28|                             0| 1-2 Year|     Yes|                124|  33.67|    0| 2.0|   36-45|         High|\n",
            "|Female|60.0|                  1|       33|                             0| 1-2 Year|     Yes|                124|  32.36|    1| 4.0|     55+|         High|\n",
            "+------+----+-------------------+---------+------------------------------+---------+--------+-------------------+-------+-----+----+--------+-------------+\n",
            "only showing top 20 rows\n",
            "\n"
          ]
        }
      ]
    },
    {
      "cell_type": "code",
      "source": [
        "df = df.withColumn(\n",
        "    'Gender_Numeric',\n",
        "    when(col('Gender') == 'Male', 0).when(col('Gender') == 'Female', 1).otherwise(None)\n",
        ")"
      ],
      "metadata": {
        "id": "IqXvG6rV_-tU"
      },
      "execution_count": null,
      "outputs": []
    },
    {
      "cell_type": "code",
      "source": [
        "df = df.withColumn(\n",
        "    'Tenure_Numeric',\n",
        "    when(col('Tenure') == '< 1 Year', 0)\n",
        "    .when(col('Tenure') == '1-2 Year', 1)\n",
        "    .when(col('Tenure') == '> 2 Years', 2)\n",
        "    .otherwise(None)\n",
        ")"
      ],
      "metadata": {
        "id": "UsmTDuYNAdI0"
      },
      "execution_count": null,
      "outputs": []
    },
    {
      "cell_type": "code",
      "source": [
        "df = df.withColumn(\n",
        "    'App_User_Numeric',\n",
        "    when(col('App_User') == 'Yes', 0)\n",
        "    .when(col('App_User') == 'No', 1)\n",
        "    .otherwise(None)\n",
        ")"
      ],
      "metadata": {
        "id": "hyVU4AWOAwx9"
      },
      "execution_count": null,
      "outputs": []
    },
    {
      "cell_type": "code",
      "source": [
        "# Create the window specification\n",
        "area_code_window = Window.partitionBy('Area_Code')\n",
        "\n",
        "# Add the new feature to your DataFrame\n",
        "df = df.withColumn('Area_Code_Avg_Revenue', mean('Revenue').over(area_code_window))"
      ],
      "metadata": {
        "id": "7Ew-KTTlMMqU"
      },
      "execution_count": null,
      "outputs": []
    },
    {
      "cell_type": "code",
      "source": [
        "# Create the window specification\n",
        "acquisition_channel_window = Window.partitionBy('Acquisition_Channel')\n",
        "\n",
        "# Add the new feature to your DataFrame\n",
        "df = df.withColumn('Channel_Avg_Revenue', mean('Revenue').over(acquisition_channel_window))"
      ],
      "metadata": {
        "id": "0DviyLsQNZgy"
      },
      "execution_count": null,
      "outputs": []
    },
    {
      "cell_type": "code",
      "source": [
        "df.show()"
      ],
      "metadata": {
        "colab": {
          "base_uri": "https://localhost:8080/"
        },
        "id": "2o_fsY6WBLzO",
        "outputId": "8eb48c0f-ce8e-478e-fd73-cadfd41582a4"
      },
      "execution_count": null,
      "outputs": [
        {
          "output_type": "stream",
          "name": "stdout",
          "text": [
            "+------+----+-------------------+---------+------------------------------+--------+--------+-------------------+-------+-----+----+--------+-------------+--------------+--------------+----------------+---------------------+-------------------+\n",
            "|Gender| Age|Has_Mobile_Contract|Area_Code|Currently_Holds_Second_Product|  Tenure|App_User|Acquisition_Channel|Revenue|Label|bins|age_bins|Revenue_Group|Gender_Numeric|Tenure_Numeric|App_User_Numeric|Area_Code_Avg_Revenue|Channel_Avg_Revenue|\n",
            "+------+----+-------------------+---------+------------------------------+--------+--------+-------------------+-------+-----+----+--------+-------------+--------------+--------------+----------------+---------------------+-------------------+\n",
            "|Female|48.0|                  1|        1|                             1|1-2 Year|      No|                 12|   2.63|    0| 3.0|   46-55|          Low|             1|             1|               1|   2.7112896825397494|  33.57289910600262|\n",
            "|  Male|58.0|                  1|        3|                             0|1-2 Year|      No|                 12|  21.85|    0| 4.0|     55+|          Low|             0|             1|               1|     24.5248870392396|  33.57289910600262|\n",
            "|  Male|49.0|                  1|        3|                             1|1-2 Year|      No|                 12|   2.63|    0| 3.0|   46-55|          Low|             0|             1|               1|     24.5248870392396|  33.57289910600262|\n",
            "|  Male|40.0|                  1|        6|                             0|1-2 Year|     Yes|                 12|  26.41|    0| 2.0|   36-45|       Medium|             0|             1|               0|     25.1321942675162|  33.57289910600262|\n",
            "|Female|43.0|                  1|        6|                             0|1-2 Year|     Yes|                 12|   2.63|    1| 2.0|   36-45|          Low|             1|             1|               0|     25.1321942675162|  33.57289910600262|\n",
            "|  Male|78.0|                  1|       20|                             1|1-2 Year|      No|                 12|   2.63|    0| 4.0|     55+|          Low|             0|             1|               1|   2.7816485788114558|  33.57289910600262|\n",
            "|  Male|37.0|                  1|       20|                             0|1-2 Year|     Yes|                 12|   2.63|    0| 2.0|   36-45|          Low|             0|             1|               0|   2.7816485788114558|  33.57289910600262|\n",
            "|  Male|59.0|                  1|       20|                             1|1-2 Year|      No|                 12|   2.63|    0| 4.0|     55+|          Low|             0|             1|               1|   2.7816485788114558|  33.57289910600262|\n",
            "|  Male|64.0|                  1|       27|                             1|1-2 Year|      No|                 12|   2.63|    0| 4.0|     55+|          Low|             0|             1|               1|   22.859015232022458|  33.57289910600262|\n",
            "|  Male|65.0|                  1|       28|                             1|1-2 Year|      No|                 12|  32.31|    0| 4.0|     55+|         High|             0|             1|               1|    38.66919513982096|  33.57289910600262|\n",
            "|  Male|43.0|                  1|       28|                             0|1-2 Year|     Yes|                 12|  69.86|    0| 2.0|   36-45|    Very High|             0|             1|               0|    38.66919513982096|  33.57289910600262|\n",
            "|Female|57.0|                  1|       28|                             0|1-2 Year|     Yes|                 12|   2.63|    0| 4.0|     55+|          Low|             1|             1|               0|    38.66919513982096|  33.57289910600262|\n",
            "|  Male|55.0|                  1|       28|                             1|1-2 Year|      No|                 12|  38.89|    0| 4.0|     55+|         High|             0|             1|               1|    38.66919513982096|  33.57289910600262|\n",
            "|Female|35.0|                  1|       28|                             0|1-2 Year|     Yes|                 12|  40.09|    0| 2.0|   36-45|    Very High|             1|             1|               0|    38.66919513982096|  33.57289910600262|\n",
            "|  Male|44.0|                  1|       28|                             0|1-2 Year|      No|                 12|  32.17|    0| 2.0|   36-45|         High|             0|             1|               1|    38.66919513982096|  33.57289910600262|\n",
            "|  Male|40.0|                  1|       28|                             1|1-2 Year|      No|                 12|  43.39|    0| 2.0|   36-45|    Very High|             0|             1|               1|    38.66919513982096|  33.57289910600262|\n",
            "|  Male|43.0|                  1|       28|                             0|1-2 Year|     Yes|                 12|  93.34|    1| 2.0|   36-45|    Very High|             0|             1|               0|    38.66919513982096|  33.57289910600262|\n",
            "|  Male|62.0|                  1|       28|                             1|1-2 Year|      No|                 12|   2.63|    0| 4.0|     55+|          Low|             0|             1|               1|    38.66919513982096|  33.57289910600262|\n",
            "|  Male|42.0|                  1|       28|                             1|1-2 Year|      No|                 12|   2.63|    0| 2.0|   36-45|          Low|             0|             1|               1|    38.66919513982096|  33.57289910600262|\n",
            "|Female|51.0|                  1|       28|                             0|1-2 Year|     Yes|                 12|  28.41|    0| 3.0|   46-55|       Medium|             1|             1|               0|    38.66919513982096|  33.57289910600262|\n",
            "+------+----+-------------------+---------+------------------------------+--------+--------+-------------------+-------+-----+----+--------+-------------+--------------+--------------+----------------+---------------------+-------------------+\n",
            "only showing top 20 rows\n",
            "\n"
          ]
        }
      ]
    },
    {
      "cell_type": "code",
      "source": [
        "df.toPandas().to_csv('cust_data_with_feature_engineering.csv')"
      ],
      "metadata": {
        "id": "_c7IuTd9RIPV"
      },
      "execution_count": null,
      "outputs": []
    }
  ],
  "metadata": {
    "kernelspec": {
      "display_name": "pyspark_ml_env",
      "language": "python",
      "name": "python3"
    },
    "language_info": {
      "codemirror_mode": {
        "name": "ipython",
        "version": 3
      },
      "file_extension": ".py",
      "mimetype": "text/x-python",
      "name": "python",
      "nbconvert_exporter": "python",
      "pygments_lexer": "ipython3",
      "version": "3.10.16"
    },
    "colab": {
      "provenance": []
    }
  },
  "nbformat": 4,
  "nbformat_minor": 0
}