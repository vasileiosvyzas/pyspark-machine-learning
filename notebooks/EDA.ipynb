{
 "cells": [
  {
   "cell_type": "code",
   "execution_count": 35,
   "metadata": {},
   "outputs": [],
   "source": [
    "from pyspark.sql import SparkSession\n",
    "from pyspark.sql.functions import col, isnan, when, count"
   ]
  },
  {
   "cell_type": "code",
   "execution_count": 2,
   "metadata": {},
   "outputs": [
    {
     "name": "stderr",
     "output_type": "stream",
     "text": [
      "25/01/28 16:44:28 WARN Utils: Your hostname, Vasileioss-Laptop.local resolves to a loopback address: 127.0.0.1; using 192.168.0.67 instead (on interface en0)\n",
      "25/01/28 16:44:28 WARN Utils: Set SPARK_LOCAL_IP if you need to bind to another address\n",
      "Setting default log level to \"WARN\".\n",
      "To adjust logging level use sc.setLogLevel(newLevel). For SparkR, use setLogLevel(newLevel).\n",
      "25/01/28 16:44:29 WARN NativeCodeLoader: Unable to load native-hadoop library for your platform... using builtin-java classes where applicable\n"
     ]
    }
   ],
   "source": [
    "spark = SparkSession.builder.appName(\"test\").getOrCreate()"
   ]
  },
  {
   "cell_type": "markdown",
   "metadata": {},
   "source": [
    "# Load data"
   ]
  },
  {
   "cell_type": "code",
   "execution_count": 9,
   "metadata": {},
   "outputs": [],
   "source": [
    "df=spark.read.csv('../data/cust_data.csv',inferSchema=True,header=True)"
   ]
  },
  {
   "cell_type": "code",
   "execution_count": 10,
   "metadata": {},
   "outputs": [
    {
     "name": "stdout",
     "output_type": "stream",
     "text": [
      "+---+------+---+-------------------+---------+------------------------------+---------+--------+------------------+-------------------+-------+-----+\n",
      "| id|Gender|Age|Has_Mobile_Contract|Area_Code|Currently_Holds_Second_Product|   Tenure|App_User|Num_website_visits|Acquisition_Channel|Revenue|Label|\n",
      "+---+------+---+-------------------+---------+------------------------------+---------+--------+------------------+-------------------+-------+-----+\n",
      "|  1|  Male| 44|                  1|       28|                             0|> 2 Years|     Yes|              NULL|                 26|  40.45|    1|\n",
      "|  2|  Male| 76|                  1|        3|                             0| 1-2 Year|      No|              NULL|                 26|  33.54|    0|\n",
      "|  3|  Male| 47|                  1|       28|                             0|> 2 Years|     Yes|              NULL|                 26|  38.29|    1|\n",
      "|  4|  Male| 21|                  1|       11|                             1| < 1 Year|      No|              NULL|                152|  28.62|    0|\n",
      "|  5|Female| 29|                  1|       41|                             1| < 1 Year|      No|              NULL|                152|   27.5|    0|\n",
      "|  6|Female| 24|                  1|       33|                             0| < 1 Year|     Yes|              NULL|                160|   2.63|    0|\n",
      "|  7|  Male| 23|                  1|       11|                             0| < 1 Year|     Yes|              NULL|                152|  23.37|    0|\n",
      "|  8|Female| 56|                  1|       28|                             0| 1-2 Year|     Yes|              NULL|                 26|  32.03|    1|\n",
      "|  9|Female| 24|                  1|        3|                             1| < 1 Year|      No|              NULL|                152|  27.62|    0|\n",
      "| 10|Female| 32|                  1|        6|                             1| < 1 Year|      No|              NULL|                152|  28.77|    0|\n",
      "| 11|Female| 47|                  1|       35|                             0| 1-2 Year|     Yes|              NULL|                124|  47.58|    1|\n",
      "| 12|Female| 24|                  1|       50|                             1| < 1 Year|      No|              NULL|                152|   48.7|    0|\n",
      "| 13|Female| 41|                  1|       15|                             1| 1-2 Year|      No|              NULL|                 14|  31.41|    0|\n",
      "| 14|  Male| 76|                  1|       28|                             0| 1-2 Year|     Yes|              NULL|                 13|  36.77|    0|\n",
      "| 15|  Male| 71|                  1|       28|                             1| 1-2 Year|      No|              NULL|                 30|  46.82|    0|\n",
      "| 16|  Male| 37|                  1|        6|                             0| 1-2 Year|     Yes|              NULL|                156|   2.63|    1|\n",
      "| 17|Female| 25|                  1|       45|                             0| < 1 Year|     Yes|              NULL|                160|  26.22|    0|\n",
      "| 18|Female| 25|                  1|       35|                             1| < 1 Year|      No|              NULL|                152|  46.62|    0|\n",
      "| 19|  Male| 42|                  1|       28|                             0|     NULL|     Yes|              NULL|                124|  33.67|    0|\n",
      "| 20|Female| 60|                  1|       33|                             0| 1-2 Year|     Yes|              NULL|                124|  32.36|    1|\n",
      "+---+------+---+-------------------+---------+------------------------------+---------+--------+------------------+-------------------+-------+-----+\n",
      "only showing top 20 rows\n",
      "\n"
     ]
    }
   ],
   "source": [
    "df.show()"
   ]
  },
  {
   "cell_type": "code",
   "execution_count": 12,
   "metadata": {},
   "outputs": [
    {
     "name": "stdout",
     "output_type": "stream",
     "text": [
      "Number of rows: 381109 and columns: 12\n"
     ]
    }
   ],
   "source": [
    "print(f\"Number of rows: {df.count()} and columns: {len(df.columns)}\")"
   ]
  },
  {
   "cell_type": "code",
   "execution_count": 13,
   "metadata": {},
   "outputs": [
    {
     "name": "stdout",
     "output_type": "stream",
     "text": [
      "root\n",
      " |-- id: integer (nullable = true)\n",
      " |-- Gender: string (nullable = true)\n",
      " |-- Age: integer (nullable = true)\n",
      " |-- Has_Mobile_Contract: integer (nullable = true)\n",
      " |-- Area_Code: integer (nullable = true)\n",
      " |-- Currently_Holds_Second_Product: integer (nullable = true)\n",
      " |-- Tenure: string (nullable = true)\n",
      " |-- App_User: string (nullable = true)\n",
      " |-- Num_website_visits: string (nullable = true)\n",
      " |-- Acquisition_Channel: integer (nullable = true)\n",
      " |-- Revenue: double (nullable = true)\n",
      " |-- Label: integer (nullable = true)\n",
      "\n"
     ]
    }
   ],
   "source": [
    "df.printSchema()"
   ]
  },
  {
   "cell_type": "code",
   "execution_count": 15,
   "metadata": {},
   "outputs": [
    {
     "name": "stderr",
     "output_type": "stream",
     "text": [
      "25/01/28 16:58:11 WARN SparkStringUtils: Truncated the string representation of a plan since it was too large. This behavior can be adjusted by setting 'spark.sql.debug.maxToStringFields'.\n",
      "                                                                                \r"
     ]
    },
    {
     "name": "stdout",
     "output_type": "stream",
     "text": [
      "+-------+------------------+------+-----------------+--------------------+------------------+------------------------------+---------+--------+------------------+-------------------+-----------------+-------------------+\n",
      "|summary|                id|Gender|              Age| Has_Mobile_Contract|         Area_Code|Currently_Holds_Second_Product|   Tenure|App_User|Num_website_visits|Acquisition_Channel|          Revenue|              Label|\n",
      "+-------+------------------+------+-----------------+--------------------+------------------+------------------------------+---------+--------+------------------+-------------------+-----------------+-------------------+\n",
      "|  count|            381109|381109|           381109|              381101|            381108|                        381109|   381108|  381109|                 0|             381109|           381109|             381109|\n",
      "|   mean|          190555.0|  NULL|38.82248385632457|   0.997869331227155| 26.38884778068159|            0.4582101183650871|     NULL|    NULL|              NULL| 112.03429465061177|30.56480615780831|0.12256336113815208|\n",
      "| stddev|110016.83620776715|  NULL|15.51394832398555|0.046110027134586076|13.229881898650813|           0.49825119888722574|     NULL|    NULL|              NULL|  54.20399477485639|17.21329544913057| 0.3279357647864245|\n",
      "|    min|                 1|Female|               -1|                   0|                 0|                             0| 1-2 Year|      No|              NULL|                  1|             2.63|                  0|\n",
      "|    max|            381109|  Male|              190|                   1|                52|                             1|> 2 Years|     Yes|              NULL|                163|           540.17|                  1|\n",
      "+-------+------------------+------+-----------------+--------------------+------------------+------------------------------+---------+--------+------------------+-------------------+-----------------+-------------------+\n",
      "\n"
     ]
    }
   ],
   "source": [
    "df.describe().show()"
   ]
  },
  {
   "cell_type": "markdown",
   "metadata": {},
   "source": [
    "# Count missing values"
   ]
  },
  {
   "cell_type": "code",
   "execution_count": 38,
   "metadata": {},
   "outputs": [
    {
     "name": "stdout",
     "output_type": "stream",
     "text": [
      "+---+------+---+-------------------+---------+------------------------------+------+--------+------------------+-------------------+-------+-----+\n",
      "| id|Gender|Age|Has_Mobile_Contract|Area_Code|Currently_Holds_Second_Product|Tenure|App_User|Num_website_visits|Acquisition_Channel|Revenue|Label|\n",
      "+---+------+---+-------------------+---------+------------------------------+------+--------+------------------+-------------------+-------+-----+\n",
      "|  0|     0|  0|                  8|        1|                             0|     1|       0|            381109|                  0|      0|    0|\n",
      "+---+------+---+-------------------+---------+------------------------------+------+--------+------------------+-------------------+-------+-----+\n",
      "\n"
     ]
    }
   ],
   "source": [
    "df.select([count(when(isnan(c) | col(c).isNull(), c)).alias(c) for c in df.columns]).show()"
   ]
  },
  {
   "cell_type": "markdown",
   "metadata": {},
   "source": [
    "# Continue with the exploration"
   ]
  },
  {
   "cell_type": "code",
   "execution_count": 21,
   "metadata": {},
   "outputs": [
    {
     "name": "stdout",
     "output_type": "stream",
     "text": [
      "+------+------+\n",
      "|Gender| count|\n",
      "+------+------+\n",
      "|Female|175020|\n",
      "|  Male|206089|\n",
      "+------+------+\n",
      "\n"
     ]
    }
   ],
   "source": [
    "df.groupBy('Gender').count().show()"
   ]
  },
  {
   "cell_type": "code",
   "execution_count": 22,
   "metadata": {},
   "outputs": [
    {
     "name": "stdout",
     "output_type": "stream",
     "text": [
      "+-------------------+------+\n",
      "|Has_Mobile_Contract| count|\n",
      "+-------------------+------+\n",
      "|               NULL|     8|\n",
      "|                  1|380289|\n",
      "|                  0|   812|\n",
      "+-------------------+------+\n",
      "\n"
     ]
    }
   ],
   "source": [
    "df.groupby('Has_Mobile_Contract').count().show()"
   ]
  }
 ],
 "metadata": {
  "kernelspec": {
   "display_name": "pyspark_ml_env",
   "language": "python",
   "name": "python3"
  },
  "language_info": {
   "codemirror_mode": {
    "name": "ipython",
    "version": 3
   },
   "file_extension": ".py",
   "mimetype": "text/x-python",
   "name": "python",
   "nbconvert_exporter": "python",
   "pygments_lexer": "ipython3",
   "version": "3.10.16"
  }
 },
 "nbformat": 4,
 "nbformat_minor": 2
}
