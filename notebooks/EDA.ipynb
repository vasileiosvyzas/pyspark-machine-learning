{
 "cells": [
  {
   "cell_type": "code",
   "execution_count": 1,
   "metadata": {},
   "outputs": [],
   "source": [
    "from pyspark.sql import SparkSession\n",
    "from pyspark.sql.functions import col, isnan, when, count, isnull, sum, median, mean, first, max, min\n",
    "from pyspark.sql.types import StructType, StructField, StringType, LongType, DoubleType"
   ]
  },
  {
   "cell_type": "code",
   "execution_count": 2,
   "metadata": {},
   "outputs": [
    {
     "name": "stderr",
     "output_type": "stream",
     "text": [
      "25/01/29 17:12:29 WARN Utils: Your hostname, Vasileioss-Laptop.local resolves to a loopback address: 127.0.0.1; using 192.168.0.67 instead (on interface en0)\n",
      "25/01/29 17:12:29 WARN Utils: Set SPARK_LOCAL_IP if you need to bind to another address\n",
      "Setting default log level to \"WARN\".\n",
      "To adjust logging level use sc.setLogLevel(newLevel). For SparkR, use setLogLevel(newLevel).\n",
      "25/01/29 17:12:30 WARN NativeCodeLoader: Unable to load native-hadoop library for your platform... using builtin-java classes where applicable\n"
     ]
    }
   ],
   "source": [
    "spark = SparkSession.builder.appName(\"test\").getOrCreate()"
   ]
  },
  {
   "cell_type": "markdown",
   "metadata": {},
   "source": [
    "# Load data"
   ]
  },
  {
   "cell_type": "code",
   "execution_count": 3,
   "metadata": {},
   "outputs": [],
   "source": [
    "df=spark.read.csv('../data/cust_data.csv',inferSchema=True,header=True)"
   ]
  },
  {
   "cell_type": "code",
   "execution_count": 4,
   "metadata": {},
   "outputs": [
    {
     "name": "stdout",
     "output_type": "stream",
     "text": [
      "+---+------+---+-------------------+---------+------------------------------+---------+--------+------------------+-------------------+-------+-----+\n",
      "| id|Gender|Age|Has_Mobile_Contract|Area_Code|Currently_Holds_Second_Product|   Tenure|App_User|Num_website_visits|Acquisition_Channel|Revenue|Label|\n",
      "+---+------+---+-------------------+---------+------------------------------+---------+--------+------------------+-------------------+-------+-----+\n",
      "|  1|  Male| 44|                  1|       28|                             0|> 2 Years|     Yes|              NULL|                 26|  40.45|    1|\n",
      "|  2|  Male| 76|                  1|        3|                             0| 1-2 Year|      No|              NULL|                 26|  33.54|    0|\n",
      "|  3|  Male| 47|                  1|       28|                             0|> 2 Years|     Yes|              NULL|                 26|  38.29|    1|\n",
      "|  4|  Male| 21|                  1|       11|                             1| < 1 Year|      No|              NULL|                152|  28.62|    0|\n",
      "|  5|Female| 29|                  1|       41|                             1| < 1 Year|      No|              NULL|                152|   27.5|    0|\n",
      "|  6|Female| 24|                  1|       33|                             0| < 1 Year|     Yes|              NULL|                160|   2.63|    0|\n",
      "|  7|  Male| 23|                  1|       11|                             0| < 1 Year|     Yes|              NULL|                152|  23.37|    0|\n",
      "|  8|Female| 56|                  1|       28|                             0| 1-2 Year|     Yes|              NULL|                 26|  32.03|    1|\n",
      "|  9|Female| 24|                  1|        3|                             1| < 1 Year|      No|              NULL|                152|  27.62|    0|\n",
      "| 10|Female| 32|                  1|        6|                             1| < 1 Year|      No|              NULL|                152|  28.77|    0|\n",
      "| 11|Female| 47|                  1|       35|                             0| 1-2 Year|     Yes|              NULL|                124|  47.58|    1|\n",
      "| 12|Female| 24|                  1|       50|                             1| < 1 Year|      No|              NULL|                152|   48.7|    0|\n",
      "| 13|Female| 41|                  1|       15|                             1| 1-2 Year|      No|              NULL|                 14|  31.41|    0|\n",
      "| 14|  Male| 76|                  1|       28|                             0| 1-2 Year|     Yes|              NULL|                 13|  36.77|    0|\n",
      "| 15|  Male| 71|                  1|       28|                             1| 1-2 Year|      No|              NULL|                 30|  46.82|    0|\n",
      "| 16|  Male| 37|                  1|        6|                             0| 1-2 Year|     Yes|              NULL|                156|   2.63|    1|\n",
      "| 17|Female| 25|                  1|       45|                             0| < 1 Year|     Yes|              NULL|                160|  26.22|    0|\n",
      "| 18|Female| 25|                  1|       35|                             1| < 1 Year|      No|              NULL|                152|  46.62|    0|\n",
      "| 19|  Male| 42|                  1|       28|                             0|     NULL|     Yes|              NULL|                124|  33.67|    0|\n",
      "| 20|Female| 60|                  1|       33|                             0| 1-2 Year|     Yes|              NULL|                124|  32.36|    1|\n",
      "+---+------+---+-------------------+---------+------------------------------+---------+--------+------------------+-------------------+-------+-----+\n",
      "only showing top 20 rows\n",
      "\n"
     ]
    }
   ],
   "source": [
    "df.show()"
   ]
  },
  {
   "cell_type": "code",
   "execution_count": 5,
   "metadata": {},
   "outputs": [
    {
     "name": "stdout",
     "output_type": "stream",
     "text": [
      "Number of rows: 381109 and columns: 12\n"
     ]
    }
   ],
   "source": [
    "print(f\"Number of rows: {df.count()} and columns: {len(df.columns)}\")"
   ]
  },
  {
   "cell_type": "code",
   "execution_count": 6,
   "metadata": {},
   "outputs": [
    {
     "name": "stdout",
     "output_type": "stream",
     "text": [
      "root\n",
      " |-- id: integer (nullable = true)\n",
      " |-- Gender: string (nullable = true)\n",
      " |-- Age: integer (nullable = true)\n",
      " |-- Has_Mobile_Contract: integer (nullable = true)\n",
      " |-- Area_Code: integer (nullable = true)\n",
      " |-- Currently_Holds_Second_Product: integer (nullable = true)\n",
      " |-- Tenure: string (nullable = true)\n",
      " |-- App_User: string (nullable = true)\n",
      " |-- Num_website_visits: string (nullable = true)\n",
      " |-- Acquisition_Channel: integer (nullable = true)\n",
      " |-- Revenue: double (nullable = true)\n",
      " |-- Label: integer (nullable = true)\n",
      "\n"
     ]
    }
   ],
   "source": [
    "df.printSchema()"
   ]
  },
  {
   "cell_type": "code",
   "execution_count": 7,
   "metadata": {},
   "outputs": [
    {
     "name": "stderr",
     "output_type": "stream",
     "text": [
      "25/01/29 17:12:34 WARN SparkStringUtils: Truncated the string representation of a plan since it was too large. This behavior can be adjusted by setting 'spark.sql.debug.maxToStringFields'.\n",
      "[Stage 6:===========>                                               (1 + 4) / 5]\r"
     ]
    },
    {
     "name": "stdout",
     "output_type": "stream",
     "text": [
      "+-------+------------------+------+-----------------+--------------------+------------------+------------------------------+---------+--------+------------------+-------------------+-----------------+-------------------+\n",
      "|summary|                id|Gender|              Age| Has_Mobile_Contract|         Area_Code|Currently_Holds_Second_Product|   Tenure|App_User|Num_website_visits|Acquisition_Channel|          Revenue|              Label|\n",
      "+-------+------------------+------+-----------------+--------------------+------------------+------------------------------+---------+--------+------------------+-------------------+-----------------+-------------------+\n",
      "|  count|            381109|381109|           381109|              381101|            381108|                        381109|   381108|  381109|                 0|             381109|           381109|             381109|\n",
      "|   mean|          190555.0|  NULL|38.82248385632457|   0.997869331227155| 26.38884778068159|            0.4582101183650871|     NULL|    NULL|              NULL| 112.03429465061177|30.56480615780831|0.12256336113815208|\n",
      "| stddev|110016.83620776715|  NULL|15.51394832398555|0.046110027134586076|13.229881898650813|           0.49825119888722574|     NULL|    NULL|              NULL|  54.20399477485639|17.21329544913057| 0.3279357647864245|\n",
      "|    min|                 1|Female|               -1|                   0|                 0|                             0| 1-2 Year|      No|              NULL|                  1|             2.63|                  0|\n",
      "|    max|            381109|  Male|              190|                   1|                52|                             1|> 2 Years|     Yes|              NULL|                163|           540.17|                  1|\n",
      "+-------+------------------+------+-----------------+--------------------+------------------+------------------------------+---------+--------+------------------+-------------------+-----------------+-------------------+\n",
      "\n"
     ]
    },
    {
     "name": "stderr",
     "output_type": "stream",
     "text": [
      "                                                                                \r"
     ]
    }
   ],
   "source": [
    "df.describe().show()"
   ]
  },
  {
   "cell_type": "markdown",
   "metadata": {},
   "source": [
    "# Count missing values"
   ]
  },
  {
   "cell_type": "code",
   "execution_count": 8,
   "metadata": {},
   "outputs": [
    {
     "name": "stdout",
     "output_type": "stream",
     "text": [
      "+--------------------+-----------+---------------+\n",
      "|              column|null_counts|null_percentage|\n",
      "+--------------------+-----------+---------------+\n",
      "|  Num_website_visits|     381109|          100.0|\n",
      "| Has_Mobile_Contract|          8|          0.002|\n",
      "|              Tenure|          1|            0.0|\n",
      "|           Area_Code|          1|            0.0|\n",
      "|            App_User|          0|            0.0|\n",
      "| Acquisition_Channel|          0|            0.0|\n",
      "|              Gender|          0|            0.0|\n",
      "|                  id|          0|            0.0|\n",
      "|                 Age|          0|            0.0|\n",
      "|             Revenue|          0|            0.0|\n",
      "|Currently_Holds_S...|          0|            0.0|\n",
      "|               Label|          0|            0.0|\n",
      "+--------------------+-----------+---------------+\n",
      "\n"
     ]
    }
   ],
   "source": [
    "null_counts = [sum(when(isnull(col), 1).otherwise(0)).alias(col) for col in df.columns]\n",
    "null_df = df.select(null_counts)\n",
    "\n",
    "result = null_df.toPandas().transpose().reset_index()\n",
    "result['null_percentage'] = (result[0] / df.count() * 100).round(3)\n",
    "\n",
    "schema = StructType([\n",
    "    StructField('column', StringType(), False),\n",
    "    StructField('null_counts', LongType(), False),\n",
    "    StructField('null_percentage', DoubleType(), False)\n",
    "])\n",
    "\n",
    "result_df = df.sparkSession.createDataFrame(\n",
    "    result.rename(\n",
    "        columns={\n",
    "            \"index\": \"column_name\", \n",
    "            0: \"null_count\"\n",
    "        }\n",
    "    ),\n",
    "    schema=schema\n",
    ")\n",
    "\n",
    "result_df.orderBy(col('null_counts').desc()).show()"
   ]
  },
  {
   "cell_type": "markdown",
   "metadata": {},
   "source": [
    "# Observations\n",
    "- I think `Num_website_visits` I can drop from the dataset because it is impossible to fill in or impute. \n",
    "- The features `Has_Mobile_Contract`, `Area_Code`, `Tenure` have very few missing values so I can try to impute them\n",
    "- I can also create an **indicator of missing values** in the dataset. That might give more context to the model as to why there are missing values.\n",
    "- The `Age` column has some out of range values such as -1 and 190. I will need to investigate and deal with that.\n",
    "- The `Revenue` column seems to have some outliers. Need to investigate that too."
   ]
  },
  {
   "cell_type": "markdown",
   "metadata": {},
   "source": [
    "# Continue with the exploration"
   ]
  },
  {
   "cell_type": "code",
   "execution_count": 9,
   "metadata": {},
   "outputs": [],
   "source": [
    "df = df.drop('id', 'Num_website_visits')"
   ]
  },
  {
   "cell_type": "code",
   "execution_count": 10,
   "metadata": {},
   "outputs": [
    {
     "name": "stdout",
     "output_type": "stream",
     "text": [
      "+------+---+-------------------+---------+------------------------------+---------+--------+-------------------+-------+-----+\n",
      "|Gender|Age|Has_Mobile_Contract|Area_Code|Currently_Holds_Second_Product|   Tenure|App_User|Acquisition_Channel|Revenue|Label|\n",
      "+------+---+-------------------+---------+------------------------------+---------+--------+-------------------+-------+-----+\n",
      "|  Male| -1|                  1|       18|                             1| 1-2 Year|      No|                 26|   2.63|    0|\n",
      "|  Male| -1|                  1|        8|                             0|> 2 Years|     Yes|                124|  22.26|    1|\n",
      "|  Male| -1|                  1|        8|                             0| 1-2 Year|     Yes|                 26|  30.58|    1|\n",
      "|Female| -1|                  1|       31|                             1| < 1 Year|      No|                152|   2.63|    0|\n",
      "+------+---+-------------------+---------+------------------------------+---------+--------+-------------------+-------+-----+\n",
      "\n"
     ]
    }
   ],
   "source": [
    "df.filter(df.Age == -1).show()"
   ]
  },
  {
   "cell_type": "code",
   "execution_count": 11,
   "metadata": {},
   "outputs": [
    {
     "name": "stdout",
     "output_type": "stream",
     "text": [
      "+------+---+-------------------+---------+------------------------------+--------+--------+-------------------+-------+-----+\n",
      "|Gender|Age|Has_Mobile_Contract|Area_Code|Currently_Holds_Second_Product|  Tenure|App_User|Acquisition_Channel|Revenue|Label|\n",
      "+------+---+-------------------+---------+------------------------------+--------+--------+-------------------+-------+-----+\n",
      "|  Male|190|                  1|        6|                             1|< 1 Year|      No|                152|  19.14|    0|\n",
      "+------+---+-------------------+---------+------------------------------+--------+--------+-------------------+-------+-----+\n",
      "\n"
     ]
    }
   ],
   "source": [
    "df.filter(df['Age'] > 85).show()"
   ]
  },
  {
   "cell_type": "markdown",
   "metadata": {},
   "source": [
    "These out of range values at the Age column might indicate a problem with the system or just a data quality issue. I don't think I should remove them from the dataset but there is no clear way how to substitue them. I think I might just impute them using the mean."
   ]
  },
  {
   "cell_type": "code",
   "execution_count": 12,
   "metadata": {},
   "outputs": [
    {
     "name": "stdout",
     "output_type": "stream",
     "text": [
      "+-------+-----------------+\n",
      "|summary|          Revenue|\n",
      "+-------+-----------------+\n",
      "|  count|           381109|\n",
      "|   mean|30.56480615780831|\n",
      "| stddev|17.21329544913057|\n",
      "|    min|             2.63|\n",
      "|    max|           540.17|\n",
      "+-------+-----------------+\n",
      "\n"
     ]
    }
   ],
   "source": [
    "df.select('Revenue').describe().show()"
   ]
  },
  {
   "cell_type": "code",
   "execution_count": 13,
   "metadata": {},
   "outputs": [
    {
     "name": "stdout",
     "output_type": "stream",
     "text": [
      "+------+---+-------------------+---------+------------------------------+--------+--------+-------------------+-------+-----+\n",
      "|Gender|Age|Has_Mobile_Contract|Area_Code|Currently_Holds_Second_Product|  Tenure|App_User|Acquisition_Channel|Revenue|Label|\n",
      "+------+---+-------------------+---------+------------------------------+--------+--------+-------------------+-------+-----+\n",
      "|  Male| 26|                  1|       28|                             0|< 1 Year|     Yes|                156| 540.17|    1|\n",
      "|Female| 53|                  1|       28|                             1|1-2 Year|      No|                 26| 540.17|    0|\n",
      "|  Male| 47|                  1|       28|                             0|1-2 Year|     Yes|                 42| 540.17|    0|\n",
      "|  Male| 46|                  1|       28|                             0|1-2 Year|     Yes|                124| 540.17|    0|\n",
      "+------+---+-------------------+---------+------------------------------+--------+--------+-------------------+-------+-----+\n",
      "\n"
     ]
    }
   ],
   "source": [
    "df.filter(df['Revenue'] == df.select(max('Revenue')).first()[0]).show()"
   ]
  },
  {
   "cell_type": "code",
   "execution_count": 14,
   "metadata": {},
   "outputs": [
    {
     "name": "stdout",
     "output_type": "stream",
     "text": [
      "+------+---+-------------------+---------+------------------------------+--------+--------+-------------------+-------+-----+\n",
      "|Gender|Age|Has_Mobile_Contract|Area_Code|Currently_Holds_Second_Product|  Tenure|App_User|Acquisition_Channel|Revenue|Label|\n",
      "+------+---+-------------------+---------+------------------------------+--------+--------+-------------------+-------+-----+\n",
      "|Female| 24|                  1|       33|                             0|< 1 Year|     Yes|                160|   2.63|    0|\n",
      "|  Male| 37|                  1|        6|                             0|1-2 Year|     Yes|                156|   2.63|    1|\n",
      "|Female| 26|                  1|        8|                             0|< 1 Year|      No|                160|   2.63|    0|\n",
      "|Female| 38|                  1|       35|                             1|1-2 Year|      No|                152|   2.63|    0|\n",
      "|Female| 62|                  1|       48|                             0|1-2 Year|     Yes|                 15|   2.63|    0|\n",
      "|  Male| 49|                  1|        8|                             0|1-2 Year|     Yes|                156|   2.63|    0|\n",
      "|Female| 50|               NULL|       41|                             0|1-2 Year|     Yes|                 26|   2.63|    1|\n",
      "|Female| 28|                  1|       41|                             0|1-2 Year|      No|                156|   2.63|    0|\n",
      "|Female| 24|                  1|        7|                             1|< 1 Year|     Yes|                160|   2.63|    0|\n",
      "|  Male| 45|                  1|       35|                             0|1-2 Year|     Yes|                124|   2.63|    0|\n",
      "|  Male| 69|                  1|       46|                             0|1-2 Year|     Yes|                 11|   2.63|    0|\n",
      "|Female| 23|                  1|       25|                             0|< 1 Year|      No|                152|   2.63|    0|\n",
      "|  Male| 49|                  1|       28|                             0|1-2 Year|     Yes|                124|   2.63|    0|\n",
      "|Female| 22|                  1|       20|                             0|< 1 Year|     Yes|                152|   2.63|    0|\n",
      "|Female| 43|                  1|       41|                             0|1-2 Year|     Yes|                 26|   2.63|    1|\n",
      "|  Male| 36|                  1|       28|                             1|1-2 Year|      No|                 26|   2.63|    0|\n",
      "|  Male| 51|                  1|       19|                             0|1-2 Year|     Yes|                124|   2.63|    0|\n",
      "|  Male| 70|                  1|       25|                             1|1-2 Year|      No|                124|   2.63|    0|\n",
      "|Female| 48|                  1|       36|                             1|1-2 Year|      No|                124|   2.63|    0|\n",
      "|  Male| 52|                  1|        0|                             0|1-2 Year|     Yes|                124|   2.63|    0|\n",
      "+------+---+-------------------+---------+------------------------------+--------+--------+-------------------+-------+-----+\n",
      "only showing top 20 rows\n",
      "\n"
     ]
    }
   ],
   "source": [
    "df.filter(df['Revenue'] == df.select(min('Revenue')).first()[0]).show()"
   ]
  },
  {
   "cell_type": "code",
   "execution_count": 15,
   "metadata": {},
   "outputs": [
    {
     "data": {
      "text/plain": [
       "64877"
      ]
     },
     "execution_count": 15,
     "metadata": {},
     "output_type": "execute_result"
    }
   ],
   "source": [
    "df.filter(df['Revenue'] == df.select(min('Revenue')).first()[0]).count()"
   ]
  },
  {
   "cell_type": "code",
   "execution_count": 16,
   "metadata": {},
   "outputs": [
    {
     "name": "stdout",
     "output_type": "stream",
     "text": [
      "+-----+------+\n",
      "|Label| count|\n",
      "+-----+------+\n",
      "|    1| 46710|\n",
      "|    0|334399|\n",
      "+-----+------+\n",
      "\n"
     ]
    }
   ],
   "source": [
    "df.groupBy('Label').count().show()"
   ]
  },
  {
   "cell_type": "markdown",
   "metadata": {},
   "source": [
    "The target value is massively imballanced"
   ]
  },
  {
   "cell_type": "code",
   "execution_count": 17,
   "metadata": {},
   "outputs": [
    {
     "name": "stdout",
     "output_type": "stream",
     "text": [
      "+------+------+\n",
      "|Gender| count|\n",
      "+------+------+\n",
      "|Female|175020|\n",
      "|  Male|206089|\n",
      "+------+------+\n",
      "\n"
     ]
    }
   ],
   "source": [
    "df.groupBy('Gender').count().show()"
   ]
  },
  {
   "cell_type": "code",
   "execution_count": 18,
   "metadata": {},
   "outputs": [
    {
     "name": "stdout",
     "output_type": "stream",
     "text": [
      "+-------------------+------+\n",
      "|Has_Mobile_Contract| count|\n",
      "+-------------------+------+\n",
      "|               NULL|     8|\n",
      "|                  1|380289|\n",
      "|                  0|   812|\n",
      "+-------------------+------+\n",
      "\n"
     ]
    }
   ],
   "source": [
    "df.groupby('Has_Mobile_Contract').count().show()"
   ]
  },
  {
   "cell_type": "code",
   "execution_count": 19,
   "metadata": {},
   "outputs": [
    {
     "name": "stdout",
     "output_type": "stream",
     "text": [
      "+-----+------+\n",
      "|Label| count|\n",
      "+-----+------+\n",
      "|    1| 46666|\n",
      "|    0|333623|\n",
      "+-----+------+\n",
      "\n"
     ]
    }
   ],
   "source": [
    "df.filter(df['Has_Mobile_Contract'] == 1).groupby('Label').count().show()"
   ]
  },
  {
   "cell_type": "code",
   "execution_count": 20,
   "metadata": {},
   "outputs": [
    {
     "name": "stdout",
     "output_type": "stream",
     "text": [
      "+-----+------+\n",
      "|Label| count|\n",
      "+-----+------+\n",
      "|    1|   158|\n",
      "|    0|174470|\n",
      "+-----+------+\n",
      "\n"
     ]
    }
   ],
   "source": [
    "df.filter(df['Currently_Holds_Second_Product'] == 1).groupby('Label').count().show()"
   ]
  },
  {
   "cell_type": "code",
   "execution_count": 21,
   "metadata": {},
   "outputs": [
    {
     "name": "stdout",
     "output_type": "stream",
     "text": [
      "+------+-----+\n",
      "|Gender|count|\n",
      "+------+-----+\n",
      "|Female|87949|\n",
      "|  Male|86679|\n",
      "+------+-----+\n",
      "\n"
     ]
    }
   ],
   "source": [
    "df.filter(df['Currently_Holds_Second_Product'] == 1).groupby('Gender').count().show()"
   ]
  },
  {
   "cell_type": "code",
   "execution_count": 22,
   "metadata": {},
   "outputs": [
    {
     "name": "stdout",
     "output_type": "stream",
     "text": [
      "+-----+--------------------+\n",
      "|Label|        sum(Revenue)|\n",
      "+-----+--------------------+\n",
      "|    1|  1476246.8900000276|\n",
      "|    0|1.0172275819997048E7|\n",
      "+-----+--------------------+\n",
      "\n"
     ]
    }
   ],
   "source": [
    "df.groupBy('Label').sum('Revenue').show()"
   ]
  },
  {
   "cell_type": "code",
   "execution_count": 27,
   "metadata": {},
   "outputs": [
    {
     "data": {
      "text/plain": [
       "155"
      ]
     },
     "execution_count": 27,
     "metadata": {},
     "output_type": "execute_result"
    }
   ],
   "source": [
    "df.select('Acquisition_Channel').distinct().count()"
   ]
  },
  {
   "cell_type": "code",
   "execution_count": 28,
   "metadata": {},
   "outputs": [
    {
     "data": {
      "text/plain": [
       "54"
      ]
     },
     "execution_count": 28,
     "metadata": {},
     "output_type": "execute_result"
    }
   ],
   "source": [
    "df.select('Area_Code').distinct().count()"
   ]
  },
  {
   "cell_type": "code",
   "execution_count": 30,
   "metadata": {},
   "outputs": [
    {
     "name": "stdout",
     "output_type": "stream",
     "text": [
      "+---------+------+\n",
      "|   Tenure| count|\n",
      "+---------+------+\n",
      "|     NULL|     1|\n",
      "|> 2 Years| 16007|\n",
      "| < 1 Year|164786|\n",
      "| 1-2 Year|200315|\n",
      "+---------+------+\n",
      "\n"
     ]
    }
   ],
   "source": [
    "df.groupBy('Tenure').count().show()"
   ]
  }
 ],
 "metadata": {
  "kernelspec": {
   "display_name": "pyspark_ml_env",
   "language": "python",
   "name": "python3"
  },
  "language_info": {
   "codemirror_mode": {
    "name": "ipython",
    "version": 3
   },
   "file_extension": ".py",
   "mimetype": "text/x-python",
   "name": "python",
   "nbconvert_exporter": "python",
   "pygments_lexer": "ipython3",
   "version": "3.10.16"
  }
 },
 "nbformat": 4,
 "nbformat_minor": 2
}
